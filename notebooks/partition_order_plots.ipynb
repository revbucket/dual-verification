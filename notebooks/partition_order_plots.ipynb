{
 "cells": [
  {
   "cell_type": "markdown",
   "metadata": {},
   "source": [
    "# Plots for evaluating time/value of partitioning/order reduction\n",
    "Sandbox and playground for evaluating how compute time and value changes as we either partition or reduce order of relu programs\n",
    "\n",
    "steps here: \n",
    "1. Set up some relu programs \n",
    "2. Build tools to plot partitioning time/vals \n",
    "3. Build tools to plot order reduction time/vals "
   ]
  },
  {
   "cell_type": "code",
   "execution_count": 1,
   "metadata": {},
   "outputs": [
    {
     "data": {
      "text/plain": [
       "<torch._C.Generator at 0x7f931c9bec48>"
      ]
     },
     "execution_count": 1,
     "metadata": {},
     "output_type": "execute_result"
    }
   ],
   "source": [
    "# Basic import block \n",
    "import sys\n",
    "\n",
    "sys.path.append('..')\n",
    "import math\n",
    "import random\n",
    "import time\n",
    "import torch\n",
    "import torch.nn as nn \n",
    "import torch.nn.functional as F\n",
    "import torch.optim as optim\n",
    "import matplotlib.pyplot as plt\n",
    "import torchvision.datasets as datasets\n",
    "import torchvision.transforms as transforms\n",
    "\n",
    "from abstract_domains import Hyperbox, Zonotope\n",
    "from neural_nets import FFNet, PreactBounds, KWBounds\n",
    "import train\n",
    "import utilities\n",
    "import dual_naive as dn\n",
    "import dual_decompose as dd \n",
    "import pickle\n",
    "import seaborn as sns \n",
    "sns.set()\n",
    "import lp_relaxation as lpr\n",
    "\n",
    "valsum = lambda d: sum(d.values()) # handy little function\n",
    "flatten = lambda lol: [subel for sublist in lol for subel in sublist]\n",
    "\n",
    "torch.manual_seed(42)"
   ]
  },
  {
   "cell_type": "markdown",
   "metadata": {},
   "source": [
    "# Part 1: Set up ReLU programs"
   ]
  },
  {
   "cell_type": "code",
   "execution_count": 2,
   "metadata": {},
   "outputs": [
    {
     "name": "stdout",
     "output_type": "stream",
     "text": [
      "Clean acc: 97.81; Robust acc: 87.38\n"
     ]
    }
   ],
   "source": [
    "### Load and train a net\n",
    "# Simple [784, 256, 128, 64, 10] PGD-trained MNIST network\n",
    "\n",
    "make_net = lambda: FFNet(\n",
    "                    nn.Sequential(nn.Linear(784, 256), \n",
    "                    nn.ReLU(), \n",
    "                    nn.Linear(256, 128), \n",
    "                    nn.ReLU(), \n",
    "                    nn.Linear(128, 64), \n",
    "                    nn.ReLU(), \n",
    "                    nn.Linear(64, 10)))\n",
    "\n",
    "\n",
    "adv_net = make_net() # Make network\n",
    "\n",
    "mnist_train = train.load_mnist_data('train', batch_size=128) # load datasets\n",
    "mnist_val = train.load_mnist_data('val')\n",
    "\n",
    "\n",
    "headless_atk = train.PGD(None, float('inf'), 0.1, 10, lb=0.0, ub=1.0) #setup attack params\n",
    "advtrain_params = train.TrainParameters(mnist_train, mnist_val, 10, adv_attack=headless_atk) # setup train params\n",
    "\n",
    "\n",
    "try: # Try to load the pickled network, otherwise train it\n",
    "    adv_net = pickle.load(open('../pickles/adv_net.pkl', 'rb'))\n",
    "except:\n",
    "    train.training_loop(adv_net, advtrain_params)\n",
    "    pickle.dump(adv_net, open('../pickles/adv_net.pkl', 'wb'))\n",
    "    train.test_validation(adv_net, advtrain_params)\n",
    "\n",
    "advtrain_params.adv_attack = train.PGD(adv_net, float('inf'), 0.1, 10, lb=0.0, ub=1.0)\n",
    "print('Clean acc: %.2f; Robust acc: %.2f' % train.test_validation(adv_net, advtrain_params)[1:])"
   ]
  },
  {
   "cell_type": "code",
   "execution_count": 3,
   "metadata": {},
   "outputs": [
    {
     "name": "stdout",
     "output_type": "stream",
     "text": [
      "tensor([[0.4137]], grad_fn=<AddmmBackward>)\n"
     ]
    },
    {
     "data": {
      "image/png": "[encoded data removed]",
      "text/plain": [
       "<Figure size 432x288 with 1 Axes>"
      ]
     },
     "metadata": {},
     "output_type": "display_data"
    }
   ],
   "source": [
    "'''\n",
    "Now convert network to a binary classifier: (can only do binary classifier certification).\n",
    "We'll do the following jointly:\n",
    "- pick an MNIST example to certify \n",
    "- build the Hyperbox that defines the adversarial input region (what the adv can do)\n",
    "- build a Binary classifier of <label> vs <label + 1>  (e.g., if the example is a 7, this is a 7vs8 classifier)\n",
    "'''\n",
    "\n",
    "\n",
    "IDX = 420\n",
    "def setup_ex(network, rad, idx=IDX): # handy function that does the steps above^\n",
    "    # Returns bin_net, input_domain \n",
    "    \n",
    "    MNIST_dataset = datasets.MNIST(train.DEFAULT_DATASET_DIR, train=False, \n",
    "                                   download=True, transform=transforms.ToTensor())\n",
    "    \n",
    "    x, label = MNIST_dataset[idx]\n",
    "    utilities.show_grayscale(x)\n",
    "    \n",
    "    test_box = Hyperbox.linf_box(x.view(-1), rad) \n",
    "    ypred = network(x.view(1, -1)).max(dim=1)[1].item()\n",
    "    \n",
    "    bin_net = network.binarize(ypred, ((ypred +1) % 10))\n",
    "    return bin_net, test_box\n",
    "\n",
    "\n",
    "RAD = 0.1\n",
    "test_ex = next(iter(mnist_val))[0][20].view(-1) #Just pick an arbitrary example\n",
    "bin_net, test_input = setup_ex(adv_net, RAD)\n",
    "#test_input = test_input.clamp(0.0, 1.0)\n",
    "print(bin_net(test_ex.view(1, 28, 28)))"
   ]
  },
  {
   "cell_type": "code",
   "execution_count": 4,
   "metadata": {},
   "outputs": [
    {
     "name": "stdout",
     "output_type": "stream",
     "text": [
      "Iter 00 | Certificate: -49.09\n",
      "Iter 50 | Certificate: -50.81\n",
      "Iter 100 | Certificate: -49.27\n",
      "Iter 150 | Certificate: -48.51\n",
      "Iter 200 | Certificate: -47.04\n",
      "Iter 250 | Certificate: -46.55\n",
      "Iter 300 | Certificate: -46.53\n",
      "Iter 350 | Certificate: -46.50\n",
      "Iter 400 | Certificate: -46.15\n",
      "Iter 450 | Certificate: -46.29\n"
     ]
    },
    {
     "data": {
      "text/plain": [
       "tensor(-46.2411, grad_fn=<AddBackward0>)"
      ]
     },
     "execution_count": 4,
     "metadata": {},
     "output_type": "execute_result"
    }
   ],
   "source": [
    "dual_zono = dn.NaiveDual(bin_net, test_input, preact_domain=Zonotope, choice='naive')\n",
    "optimizer = optim.Adam(dual_zono.parameters(), lr=1e-2)\n",
    "dual_zono.dual_ascent(500, optim_obj=optimizer, verbose=50)"
   ]
  },
  {
   "cell_type": "code",
   "execution_count": 5,
   "metadata": {},
   "outputs": [],
   "source": [
    "def get_ith_rp(dual_obj, idx):\n",
    "    # Returns (zono, c1, c2) for ReluProgram\n",
    "    bounds = dual_obj.preact_bounds[idx]\n",
    "    assert isinstance(bounds, Zonotope)\n",
    "    return (bounds, dual_obj.lambda_[idx - 1], -dual_obj.lambda_[idx])\n",
    "                                               \n",
    "def get_rps(dual_obj):\n",
    "    outputs =[]\n",
    "    for i, el in enumerate(dual_obj.network):\n",
    "        if i % 2 == 1:\n",
    "            outputs.append(get_ith_rp(dual_obj, i))\n",
    "    return outputs\n",
    "\n",
    "rps = get_rps(dual_zono)"
   ]
  },
  {
   "cell_type": "markdown",
   "metadata": {},
   "source": [
    "# Partition Graphs"
   ]
  },
  {
   "cell_type": "code",
   "execution_count": 6,
   "metadata": {},
   "outputs": [],
   "source": [
    "def partition_series_vals(zono, c1, c2, part_dim_iter):\n",
    "    \"\"\" Groups ReLU programs into partitions specified by part_dim_iter\n",
    "        Returns list of [(part_dim, time, time-MIPsetup, value),...]\n",
    "    where part_dim refers to dimension of each partition element \n",
    "    \"\"\"\n",
    "    outputs = [] \n",
    "    for part_dim in part_dim_iter:\n",
    "        print(\"Working on partitions of dimension %s\" % part_dim)\n",
    "        part = zono.make_random_partitions_dim(part_dim)\n",
    "        runsum = 0\n",
    "        start = time.time()\n",
    "        for group, subzono in part:\n",
    "            subzono._setup_relu_mip()\n",
    "        post_mip_setup_start = time.time()\n",
    "        for group, subzono in part:\n",
    "            runsum += subzono.solve_relu_mip(c1[group], c2[group])[0]\n",
    "        outputs.append((part_dim, time.time() - start, time.time() - post_mip_setup_start, runsum))\n",
    "    return outputs\n",
    "\n",
    "def plot_partition_series_vals(data, ax=None, logtime=True):\n",
    "    if ax is None:\n",
    "        fig, ax = plt.subplots(figsize=(8,8))\n",
    "    \n",
    "    time_xform = (lambda x: math.log(x, 10)) if logtime else (lambda x: x)\n",
    "    time_ax = ax.twinx()\n",
    "    ln1 = time_ax.plot([_[0] for _ in data], [time_xform(_[1]) for _ in data], c='b', label='Time')\n",
    "    ln2 = time_ax.plot([_[0] for _ in data], [time_xform(_[2]) for _ in data], c='r', label='Post MIP setup Time')\n",
    "    ln3 = ax.plot([_[0] for _ in data], [_[3] for _ in data], c='g', label='Values')\n",
    "    ax.set_xlabel('Partition Dimension')\n",
    "        \n",
    "    lns = ln1 + ln2 + ln3\n",
    "    time_ax.set_ylabel('Time')\n",
    "    ax.set_ylabel('Value')\n",
    "    ax.legend(lns, [l.get_label() for l in lns])\n",
    "    return ax\n",
    "\n"
   ]
  },
  {
   "cell_type": "code",
   "execution_count": null,
   "metadata": {},
   "outputs": [
    {
     "name": "stdout",
     "output_type": "stream",
     "text": [
      "Working on partitions of dimension 1\n",
      "Using license file /home/matt/config/gurobi.lic\n",
      "Academic license - for non-commercial use only\n"
     ]
    }
   ],
   "source": [
    "rp2_data = partition_series_vals(*rps[2], [1,2,4,8,16,32])"
   ]
  },
  {
   "cell_type": "code",
   "execution_count": null,
   "metadata": {},
   "outputs": [],
   "source": [
    "plot_partition_series_vals(rp2_data)"
   ]
  },
  {
   "cell_type": "code",
   "execution_count": null,
   "metadata": {},
   "outputs": [],
   "source": []
  },
  {
   "cell_type": "markdown",
   "metadata": {},
   "source": [
    "# Order reduction Graphs"
   ]
  },
  {
   "cell_type": "code",
   "execution_count": null,
   "metadata": {},
   "outputs": [],
   "source": [
    "def order_series_vals(zono, c1, c2, num_steps, **reduce_kwargs):\n",
    "    # Linearly interpolates between 1->order(zono) in (num_steps+1) steps\n",
    "    # Returns list of [(order, total_time, mipSolve_time, value)]\n",
    "    inc = (zono.order - 1) / num_steps\n",
    "    orders = [1 + inc * i for i in range(num_steps)]\n",
    "    outputs = [] \n",
    "    for order in orders:\n",
    "        total_start = time.time()\n",
    "        redux_zono = zono.reduce_simple(order, **reduce_kwargs)\n",
    "        print(\"Trying order %s\" % redux_zono.order)\n",
    "\n",
    "        redux_zono._setup_relu_mip()\n",
    "        \n",
    "        mip_start = time.time()\n",
    "        val = redux_zono.solve_relu_mip(c1, c2)[0]\n",
    "        outputs.append((order, time.time() - total_start, time.time() - mip_start, val))\n",
    "    return outputs\n",
    "\n",
    "def get_single_part(zono, c1, c2, dim):\n",
    "    group, subzono = zono.make_random_partitions_dim(dim)[0]\n",
    "    return subzono, c1[group], c2[group]\n",
    "    \n",
    "def plot_order_series_vals(data, ax=None, logtime=False):\n",
    "    if ax is None:\n",
    "        fig, ax = plt.subplots(figsize=(8,8))\n",
    "    \n",
    "    \n",
    "    time_xform = (lambda x: math.log(x, 10)) if logtime else (lambda x: x)\n",
    "    time_ax = ax.twinx()\n",
    "    ln1 = time_ax.plot([_[0] for _ in data], [time_xform(_[1]) for _ in data], c='b', label='Time')\n",
    "    ln2 = time_ax.plot([_[0] for _ in data], [time_xform(_[2]) for _ in data], c='r', label='Post MIP setup Time')\n",
    "    ln3 = ax.plot([_[0] for _ in data], [_[3] for _ in data], c='g', label='Values')\n",
    "    ax.set_xlabel('Order')\n",
    "    ax.set_ylabel('Value')\n",
    "    time_ax.set_ylabel('Time')\n",
    "    \n",
    "    lns = ln1 + ln2 + ln3\n",
    "    ax.legend(lns, [l.get_label() for l in lns], loc=0)\n",
    "\n",
    "    return ax\n"
   ]
  },
  {
   "cell_type": "code",
   "execution_count": null,
   "metadata": {},
   "outputs": [],
   "source": [
    "# Make reduced partition for speed purposes...\n",
    "sp_zono, sp_c1, sp_c2 = get_single_part(*rps[2], 32)\n",
    "order_data = order_series_vals(sp_zono, sp_c1, sp_c2, 32)\n",
    "plot_order_series_vals(order_data)"
   ]
  },
  {
   "cell_type": "code",
   "execution_count": null,
   "metadata": {},
   "outputs": [],
   "source": []
  }
 ],
 "metadata": {
  "kernelspec": {
   "display_name": "py3",
   "language": "python",
   "name": "py3"
  },
  "language_info": {
   "codemirror_mode": {
    "name": "ipython",
    "version": 3
   },
   "file_extension": ".py",
   "mimetype": "text/x-python",
   "name": "python",
   "nbconvert_exporter": "python",
   "pygments_lexer": "ipython3",
   "version": "3.6.9"
  }
 },
 "nbformat": 4,
 "nbformat_minor": 4
}
