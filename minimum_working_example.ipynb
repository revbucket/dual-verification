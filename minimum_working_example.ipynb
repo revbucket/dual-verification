{
 "cells": [
  {
   "cell_type": "markdown",
   "metadata": {},
   "source": [
    "# Minimum working example for dual zonotopes\n",
    "Whirlwind tour of the codebase with most of the functionality explained (for the naive case)\n",
    "\n",
    "Table of contents:\n",
    "1. Loading a net and setting up an example verification problem \n",
    "2. Computing preactivation bounds / {boxes, zonotopes, polytopes}\n",
    "3. Playing with the naive dual object \n",
    "4. Playing with the decomposed dual object\n",
    "5. Interacting with zonotopes/partitioning"
   ]
  },
  {
   "cell_type": "code",
   "execution_count": 1,
   "metadata": {},
   "outputs": [
    {
     "data": {
      "text/plain": [
       "<torch._C.Generator at 0x7f9763632c30>"
      ]
     },
     "execution_count": 1,
     "metadata": {},
     "output_type": "execute_result"
    }
   ],
   "source": [
    "# Basic import block \n",
    "import torch\n",
    "import torch.nn as nn \n",
    "import torch.nn.functional as F\n",
    "import torch.optim as optim\n",
    "import matplotlib.pyplot as plt\n",
    "\n",
    "\n",
    "import abstract_domains as ad \n",
    "from neural_nets import FFNet, PreactBounds\n",
    "import train\n",
    "import utilities\n",
    "import dual_naive as dn\n",
    "import dual_decompose as dd \n",
    "import pickle\n",
    "import seaborn as sns \n",
    "sns.set()\n",
    "\n",
    "valsum = lambda d: sum(d.values()) # handy little function\n",
    "flatten = lambda lol: [subel for sublist in lol for subel in sublist]\n",
    "\n",
    "torch.manual_seed(42)"
   ]
  },
  {
   "cell_type": "markdown",
   "metadata": {},
   "source": [
    "# Part 1: Loading a net and setting up an example"
   ]
  },
  {
   "cell_type": "code",
   "execution_count": 2,
   "metadata": {},
   "outputs": [
    {
     "name": "stdout",
     "output_type": "stream",
     "text": [
      "Clean acc: 98.48; Robust acc: 90.01\n"
     ]
    }
   ],
   "source": [
    "### Load and train a net\n",
    "# Simple [784, 256, 128, 64, 10] PGD-trained MNIST network\n",
    "\n",
    "make_net = lambda: FFNet(\n",
    "                    nn.Sequential(nn.Linear(784, 256), \n",
    "                    nn.ReLU(), \n",
    "                    nn.Linear(256, 128), \n",
    "                    nn.ReLU(), \n",
    "                    nn.Linear(128, 64), \n",
    "                    nn.ReLU(), \n",
    "                    nn.Linear(64, 10)))\n",
    "\n",
    "\n",
    "adv_net = make_net() # Make network\n",
    "\n",
    "mnist_train = train.load_mnist_data('train', batch_size=128) # load datasets\n",
    "mnist_val = train.load_mnist_data('val')\n",
    "\n",
    "\n",
    "headless_atk = train.PGD(None, float('inf'), 0.1, 10, lb=0.0, ub=1.0) #setup attack params\n",
    "advtrain_params = train.TrainParameters(mnist_train, mnist_val, 10, adv_attack=headless_atk) # setup train params\n",
    "\n",
    "\n",
    "try: # Try to load the pickled network, otherwise train it\n",
    "    adv_net = pickle.load(open('adv_net.pkl', 'rb'))\n",
    "except:\n",
    "    train.training_loop(adv_net, advtrain_params)\n",
    "    pickle.dump(adv_net, open('adv_net.pkl', 'wb'))\n",
    "    train.test_validation(adv_net, advtrain_params)\n",
    "\n",
    "advtrain_params.adv_attack = train.PGD(adv_net, float('inf'), 0.1, 10, lb=0.0, ub=1.0)\n",
    "print('Clean acc: %.2f; Robust acc: %.2f' % train.test_validation(adv_net, advtrain_params)[1:])"
   ]
  },
  {
   "cell_type": "code",
   "execution_count": 3,
   "metadata": {},
   "outputs": [
    {
     "name": "stdout",
     "output_type": "stream",
     "text": [
      "tensor([[13.5886]], grad_fn=<AddmmBackward>)\n"
     ]
    }
   ],
   "source": [
    "'''\n",
    "Now convert network to a binary classifier: (can only do binary classifier certification).\n",
    "We'll do the following jointly:\n",
    "- pick an MNIST example to certify \n",
    "- build the Hyperbox that defines the adversarial input region (what the adv can do)\n",
    "- build a Binary classifier of <label> vs <label + 1>  (e.g., if the example is a 7, this is a 7vs8 classifier)\n",
    "'''\n",
    "\n",
    "\n",
    "\n",
    "def setup_ex(x, network, rad): # handy function that does the steps above^\n",
    "    # Returns bin_net, input_domain \n",
    "    test_box = ad.Hyperbox.linf_box(x.view(-1), rad) \n",
    "    ypred = network(x.view(1, -1)).max(dim=1)[1].item()\n",
    "    \n",
    "    bin_net = network.binarize(ypred, ((ypred +1) % 10))\n",
    "    return bin_net, test_box\n",
    "\n",
    "\n",
    "RAD = 0.1\n",
    "test_ex = next(iter(mnist_val))[0][20].view(-1) #Just pick an arbitrary example\n",
    "bin_net, test_input = setup_ex(test_ex, adv_net, RAD)\n",
    "#test_input = test_input.clamp(0.0, 1.0)\n",
    "print(bin_net(test_ex.view(1, 28, 28)))"
   ]
  },
  {
   "cell_type": "markdown",
   "metadata": {},
   "source": [
    "# Part 2: Computing Preactivation Bounds\n",
    "Explaining the Abstract Domain framework I've rebuilt for this\n"
   ]
  },
  {
   "cell_type": "code",
   "execution_count": 4,
   "metadata": {},
   "outputs": [],
   "source": [
    "\"\"\" All this stuff is contained in abstract_domains.py for extensions of the base AbstractDomain class.\n",
    "    \n",
    "    Ultimately we want to compute PreactBounds object which has the intermediate bounds stored in a list.\n",
    "    The API is simple, see below for boilerplate methods for computing preactivation bounds\n",
    "\"\"\"\n",
    "\n",
    "def get_hyperbox_prespec(net, test_input):\n",
    "    # Hyperbox bounds (interval bounds)\n",
    "    bounds = PreactBounds(net, test_input, ad.Hyperbox)\n",
    "    bounds.compute() \n",
    "    return bounds \n",
    "\n",
    "def get_zonobox_prespec(net, test_input):\n",
    "    # Computes zonotopes, but then converts to hyperboxes\n",
    "    bounds = PreactBounds(net, test_input, ad.Zonotope)\n",
    "    bounds.compute() \n",
    "    \n",
    "    bounds.abstract_domain = ad.Hyperbox \n",
    "    bounds.bounds = [_.as_hyperbox() for _ in bounds.bounds]\n",
    "    \n",
    "    return bounds \n",
    "\n",
    "def get_zonotope_prespec(net, test_input):\n",
    "    # Computes zonotopes properly\n",
    "    bounds = PreactBounds(net, test_input, ad.Zonotope)\n",
    "    bounds.compute() \n",
    "    return bounds \n",
    "\n",
    "def get_polybox_prespec(net, test_input):\n",
    "    # Computes polytopes [Kolter-Wong thing]\n",
    "    # (bounds.bounds is boxes, but we store the whole polytope too)\n",
    "    bounds = PreactBounds(net, test_input, ad.Polytope)\n",
    "    bounds.compute()\n",
    "    return bounds\n",
    "\n"
   ]
  },
  {
   "cell_type": "code",
   "execution_count": 5,
   "metadata": {},
   "outputs": [
    {
     "name": "stdout",
     "output_type": "stream",
     "text": [
      "Using license file /home/matt/config/gurobi.lic\n",
      "Academic license - for non-commercial use only\n"
     ]
    }
   ],
   "source": [
    "# E.g., what I'm saying about zonotopes vs polytopes:\n",
    "zono_bounds = get_zonotope_prespec(bin_net, test_input)\n",
    "poly_bounds = get_polybox_prespec(bin_net, test_input)"
   ]
  },
  {
   "cell_type": "code",
   "execution_count": 6,
   "metadata": {},
   "outputs": [
    {
     "name": "stdout",
     "output_type": "stream",
     "text": [
      "ZONO BOUNDS: [-122.32, 176.48]\n",
      "POLY BOUNDS: [-368.39, 555.43]\n"
     ]
    }
   ],
   "source": [
    "print(\"ZONO BOUNDS: [%.2f, %.2f]\" % (zono_bounds.bounds[-1].lbs.item(), zono_bounds.bounds[-1].ubs.item()))\n",
    "print(\"POLY BOUNDS: [%.2f, %.2f]\" % (poly_bounds.bounds[-1].lbs.item(), poly_bounds.bounds[-1].ubs.item()))"
   ]
  },
  {
   "cell_type": "markdown",
   "metadata": {},
   "source": [
    "# Part 3: Actually doing the dual verification\n",
    "Let's use the setup from the previous block where we want to lower bound the optimum of minimize `bin_net(x)` over all `x` in `test_input`\n"
   ]
  },
  {
   "cell_type": "code",
   "execution_count": 7,
   "metadata": {},
   "outputs": [],
   "source": [
    "# For comparison, let's look at what happens when we use box-based inner minimizations\n",
    "# (but intermediate bounds computed from zonotopes)\n",
    "\n",
    "zonobox_bounds = get_zonobox_prespec(bin_net, test_input)\n",
    "zonobox_dual = dn.NaiveDual(bin_net, test_input, preact_domain=ad.Hyperbox, \n",
    "                            prespec_bounds=zonobox_bounds, choice='naive')\n",
    "\n",
    "optim_obj = optim.Adam(zonobox_dual.parameters(), lr=1e-2)\n"
   ]
  },
  {
   "cell_type": "code",
   "execution_count": 8,
   "metadata": {},
   "outputs": [
    {
     "name": "stdout",
     "output_type": "stream",
     "text": [
      "Iter 00 | Certificate: -122.32\n",
      "Iter 25 | Certificate: -129.91\n",
      "Iter 50 | Certificate: -126.21\n",
      "Iter 75 | Certificate: -124.22\n",
      "Iter 100 | Certificate: -122.38\n",
      "Iter 125 | Certificate: -121.53\n",
      "Iter 150 | Certificate: -119.32\n",
      "Iter 175 | Certificate: -117.81\n",
      "Iter 200 | Certificate: -116.55\n",
      "Iter 225 | Certificate: -115.25\n",
      "Iter 250 | Certificate: -113.37\n",
      "Iter 275 | Certificate: -112.70\n",
      "Iter 300 | Certificate: -110.20\n",
      "Iter 325 | Certificate: -109.79\n",
      "Iter 350 | Certificate: -106.75\n",
      "Iter 375 | Certificate: -106.11\n",
      "Iter 400 | Certificate: -103.39\n",
      "Iter 425 | Certificate: -102.71\n",
      "Iter 450 | Certificate: -101.23\n",
      "Iter 475 | Certificate: -100.62\n",
      "Iter 500 | Certificate: -100.98\n",
      "Iter 525 | Certificate: -100.64\n",
      "Iter 550 | Certificate: -100.45\n",
      "Iter 575 | Certificate: -100.73\n",
      "Iter 600 | Certificate: -101.35\n",
      "Iter 625 | Certificate: -101.52\n",
      "Iter 650 | Certificate: -101.34\n",
      "Iter 675 | Certificate: -101.03\n",
      "Iter 700 | Certificate: -101.19\n",
      "Iter 725 | Certificate: -99.90\n",
      "Iter 750 | Certificate: -100.92\n",
      "Iter 775 | Certificate: -100.79\n",
      "Iter 800 | Certificate: -100.79\n",
      "Iter 825 | Certificate: -100.91\n",
      "Iter 850 | Certificate: -100.01\n",
      "Iter 875 | Certificate: -101.08\n",
      "Iter 900 | Certificate: -101.46\n",
      "Iter 925 | Certificate: -101.23\n",
      "Iter 950 | Certificate: -100.58\n",
      "Iter 975 | Certificate: -100.66\n"
     ]
    }
   ],
   "source": [
    "zonobox_out = zonobox_dual.dual_ascent(1000, verbose=25, optim_obj=optim_obj)"
   ]
  },
  {
   "cell_type": "code",
   "execution_count": 9,
   "metadata": {},
   "outputs": [
    {
     "name": "stdout",
     "output_type": "stream",
     "text": [
      "Iter 00 | Certificate: -122.32\n",
      "Iter 25 | Certificate: -126.29\n",
      "Iter 50 | Certificate: -119.45\n",
      "Iter 75 | Certificate: -116.10\n",
      "Iter 100 | Certificate: -113.24\n",
      "Iter 125 | Certificate: -110.10\n",
      "Iter 150 | Certificate: -106.07\n",
      "Iter 175 | Certificate: -102.26\n",
      "Iter 200 | Certificate: -100.19\n",
      "Iter 225 | Certificate: -99.63\n",
      "Iter 250 | Certificate: -99.54\n",
      "Iter 275 | Certificate: -99.05\n",
      "Iter 300 | Certificate: -98.90\n",
      "Iter 325 | Certificate: -99.50\n",
      "Iter 350 | Certificate: -99.42\n",
      "Iter 375 | Certificate: -98.71\n",
      "Iter 400 | Certificate: -98.45\n",
      "Iter 425 | Certificate: -98.49\n",
      "Iter 450 | Certificate: -98.51\n",
      "Iter 475 | Certificate: -98.11\n",
      "Iter 500 | Certificate: -98.42\n",
      "Iter 525 | Certificate: -98.36\n",
      "Iter 550 | Certificate: -98.13\n",
      "Iter 575 | Certificate: -97.87\n",
      "Iter 600 | Certificate: -97.70\n",
      "Iter 625 | Certificate: -98.12\n",
      "Iter 650 | Certificate: -98.61\n",
      "Iter 675 | Certificate: -97.37\n",
      "Iter 700 | Certificate: -97.78\n",
      "Iter 725 | Certificate: -97.77\n",
      "Iter 750 | Certificate: -98.08\n",
      "Iter 775 | Certificate: -97.85\n",
      "Iter 800 | Certificate: -97.70\n",
      "Iter 825 | Certificate: -97.83\n",
      "Iter 850 | Certificate: -98.20\n",
      "Iter 875 | Certificate: -98.07\n",
      "Iter 900 | Certificate: -97.89\n",
      "Iter 925 | Certificate: -98.26\n",
      "Iter 950 | Certificate: -98.11\n",
      "Iter 975 | Certificate: -97.82\n"
     ]
    }
   ],
   "source": [
    "# On the other hand, we can do the same with zonotopes (no hyperbox cast)\n",
    "# - run dual ascent for 1k iterations, and then start computing partition stuff \n",
    "zono_dual = dn.NaiveDual(bin_net, test_input, preact_domain=ad.Zonotope, \n",
    "                         choice='naive')\n",
    "\n",
    "optim_obj = optim.Adam(zono_dual.parameters(), lr=1e-2)\n",
    "zono_out = zono_dual.dual_ascent(1000, verbose=25, optim_obj=optim_obj)"
   ]
  },
  {
   "cell_type": "code",
   "execution_count": 10,
   "metadata": {},
   "outputs": [
    {
     "data": {
      "text/plain": [
       "OrderedDict([('x:0', tensor(2.0680, grad_fn=<DotBackward>)),\n",
       "             ('z:0', tensor(-2.6312, grad_fn=<SubBackward0>)),\n",
       "             ('x:1', tensor(-0.6389, grad_fn=<SubBackward0>)),\n",
       "             ('z:1', tensor(-18.9046, grad_fn=<SubBackward0>)),\n",
       "             ('x:2', tensor(-3.3282, grad_fn=<SubBackward0>)),\n",
       "             ('z:2', tensor(-70.2211, grad_fn=<SubBackward0>)),\n",
       "             ('x:3', tensor(-4.3652, grad_fn=<SubBackward0>)),\n",
       "             ('output', tensor([-0.0924], grad_fn=<MulBackward0>)),\n",
       "             ('total', tensor([-98.1137], grad_fn=<AddBackward0>))])"
      ]
     },
     "execution_count": 10,
     "metadata": {},
     "output_type": "execute_result"
    }
   ],
   "source": [
    "# And we can examine the contribution of each subproblem to the total lagrangian \n",
    "zono_dual.lagrange_by_var(zono_dual.argmin())"
   ]
  },
  {
   "cell_type": "code",
   "execution_count": 11,
   "metadata": {},
   "outputs": [
    {
     "name": "stdout",
     "output_type": "stream",
     "text": [
      "Lagrange bounds using naive inner min:  tensor(-98.1137, grad_fn=<AddBackward0>)\n",
      "Lagrange bounds when you partition:  tensor(-61.5584, grad_fn=<AddBackward0>)\n"
     ]
    }
   ],
   "source": [
    "# Start partitioning by modifying the choice and partition kwargs attr \n",
    "\n",
    "print(\"Lagrange bounds using naive inner min: \", zono_dual.lagrangian(zono_dual.argmin()))\n",
    "\n",
    "\n",
    "zono_dual.choice = 'partition' \n",
    "zono_dual.partition_kwargs = {'num_partitions': 8, 'partition_style': 'fixed'} \n",
    "# num partition is # of partitions per zonotope \n",
    "# partition_style 'fixed' saves partitions, whereas 'random' re-partitions every time\n",
    "print(\"Lagrange bounds when you partition: \", zono_dual.lagrangian(zono_dual.argmin()))\n"
   ]
  },
  {
   "cell_type": "code",
   "execution_count": 12,
   "metadata": {},
   "outputs": [
    {
     "name": "stdout",
     "output_type": "stream",
     "text": [
      "Changed value of parameter TimeLimit to 10.0\n",
      "   Prev: inf  Min: 0.0  Max: inf  Default: inf\n",
      "Changed value of parameter TimeLimit to 10.0\n",
      "   Prev: inf  Min: 0.0  Max: inf  Default: inf\n",
      "Changed value of parameter TimeLimit to 10.0\n",
      "   Prev: inf  Min: 0.0  Max: inf  Default: inf\n"
     ]
    }
   ],
   "source": [
    "# For this choice of dual variables lambda_, we can get bounds on the MIP subproblems (no partitioning) ...\n",
    "# (note that further optimization of lambda_ will change these bounds)\n",
    "est_bounds = zono_dual.lagrange_bounds({'TimeLimit': 10})"
   ]
  },
  {
   "cell_type": "code",
   "execution_count": 13,
   "metadata": {},
   "outputs": [
    {
     "data": {
      "text/plain": [
       "{'x:0': tensor(2.0325, grad_fn=<DotBackward>),\n",
       " 'z:0': (-1.4913844355166677, -0.556996407703031),\n",
       " 'x:1': tensor(-0.6132, grad_fn=<DotBackward>),\n",
       " 'z:1': (-14.927361286142926, -4.926206725345308),\n",
       " 'x:2': tensor(-3.2226, grad_fn=<DotBackward>),\n",
       " 'z:2': (-41.47969714289978, -23.379760264032754),\n",
       " 'x:3': tensor(-4.5243, grad_fn=<DotBackward>),\n",
       " 'output': tensor(-0.0924, grad_fn=<DotBackward>),\n",
       " 'total_lb': tensor(-64.3185, grad_fn=<AddBackward0>),\n",
       " 'total_ub': tensor(-35.2830, grad_fn=<AddBackward0>)}"
      ]
     },
     "execution_count": 13,
     "metadata": {},
     "output_type": "execute_result"
    }
   ],
   "source": [
    "# X's are solved exactly, Z's are tuples with upper/lower bounds from MIP\n",
    "est_bounds"
   ]
  },
  {
   "cell_type": "markdown",
   "metadata": {},
   "source": [
    "# Part 4: Decomposition Objects\n",
    "There's an improved lagrangian formulation using lagrangian splitting, but the same idea holds: you can switch box-based relu programming problems to zonotope-based ones. There's some theory that this provides Lagrangians that are no worse than previous bounds, but the main benefit is that iteration is quicker (but the formulation is slightly more tricky to reason about) \n",
    "\n",
    "This is contained in the `dual_decompose.DecompDual` class, and the API is basically the same."
   ]
  },
  {
   "cell_type": "code",
   "execution_count": 14,
   "metadata": {},
   "outputs": [
    {
     "name": "stdout",
     "output_type": "stream",
     "text": [
      "Zero dual bound:  tensor(-147.6271, grad_fn=<SubBackward0>)\n",
      "Init dual bound:  tensor(-135.9158, grad_fn=<SubBackward0>)\n"
     ]
    }
   ],
   "source": [
    "zono_decomp = dd.DecompDual(bin_net, test_input,  preact_domain=ad.Zonotope, \n",
    "                            choice='naive', zero_dual=True)\n",
    "\n",
    "# The only extra kwarg here is zero_dual, which initializes the dual variables \n",
    "# from the KW2017 paper, giving a slightly better initial bound \n",
    "\n",
    "zero_dual_bound = zono_decomp.lagrangian(zono_decomp.argmin())\n",
    "zono_decomp = dd.DecompDual(bin_net, test_input,  preact_domain=ad.Zonotope, \n",
    "                            choice='naive', zero_dual=False)\n",
    "init_dual_bound = zono_decomp.lagrangian(zono_decomp.argmin())\n",
    "\n",
    "print(\"Zero dual bound: \", zero_dual_bound)\n",
    "print(\"Init dual bound: \", init_dual_bound)\n"
   ]
  },
  {
   "cell_type": "code",
   "execution_count": 15,
   "metadata": {},
   "outputs": [
    {
     "name": "stdout",
     "output_type": "stream",
     "text": [
      "Iter 00 | Certificate: -135.92\n",
      "Iter 25 | Certificate: -102.54\n",
      "Iter 50 | Certificate: -99.31\n",
      "Iter 75 | Certificate: -98.35\n",
      "Iter 100 | Certificate: -98.90\n",
      "Iter 125 | Certificate: -99.00\n",
      "Iter 150 | Certificate: -98.66\n",
      "Iter 175 | Certificate: -98.83\n",
      "Iter 200 | Certificate: -98.42\n",
      "Iter 225 | Certificate: -98.86\n",
      "Iter 250 | Certificate: -98.95\n",
      "Iter 275 | Certificate: -99.16\n",
      "Iter 300 | Certificate: -98.68\n",
      "Iter 325 | Certificate: -98.78\n",
      "Iter 350 | Certificate: -98.97\n",
      "Iter 375 | Certificate: -98.92\n",
      "Iter 400 | Certificate: -98.40\n",
      "Iter 425 | Certificate: -98.59\n",
      "Iter 450 | Certificate: -98.60\n",
      "Iter 475 | Certificate: -98.51\n",
      "Iter 00 | Certificate: -98.68\n",
      "Iter 25 | Certificate: -96.30\n",
      "Iter 50 | Certificate: -96.14\n",
      "Iter 75 | Certificate: -96.15\n",
      "Iter 100 | Certificate: -96.10\n",
      "Iter 125 | Certificate: -96.11\n",
      "Iter 150 | Certificate: -96.12\n",
      "Iter 175 | Certificate: -96.09\n",
      "Iter 200 | Certificate: -96.12\n",
      "Iter 225 | Certificate: -96.09\n",
      "Iter 250 | Certificate: -96.14\n",
      "Iter 275 | Certificate: -96.10\n",
      "Iter 300 | Certificate: -96.14\n",
      "Iter 325 | Certificate: -96.09\n",
      "Iter 350 | Certificate: -96.11\n",
      "Iter 375 | Certificate: -96.08\n",
      "Iter 400 | Certificate: -96.11\n",
      "Iter 425 | Certificate: -96.06\n",
      "Iter 450 | Certificate: -96.12\n",
      "Iter 475 | Certificate: -96.11\n"
     ]
    }
   ],
   "source": [
    "optim_obj = optim.Adam(zono_decomp.parameters(), lr=1e-2)\n",
    "zono_out = zono_decomp.dual_ascent(500, verbose=25, optim_obj=optim_obj)\n",
    "\n",
    "optim_obj = optim.Adam(zono_decomp.parameters(), lr=1e-3)\n",
    "zono_out = zono_decomp.dual_ascent(500, verbose=25, optim_obj=optim_obj)"
   ]
  },
  {
   "cell_type": "code",
   "execution_count": 16,
   "metadata": {},
   "outputs": [
    {
     "name": "stdout",
     "output_type": "stream",
     "text": [
      "Iter 00 | Certificate: -73.29\n",
      "Iter 01 | Certificate: -78.98\n",
      "Iter 02 | Certificate: -77.50\n",
      "Iter 03 | Certificate: -74.22\n",
      "Iter 04 | Certificate: -72.28\n",
      "Iter 05 | Certificate: -73.28\n",
      "Iter 06 | Certificate: -74.11\n",
      "Iter 07 | Certificate: -73.23\n",
      "Iter 08 | Certificate: -72.03\n",
      "Iter 09 | Certificate: -72.15\n",
      "Iter 10 | Certificate: -72.34\n",
      "Iter 11 | Certificate: -71.93\n",
      "Iter 12 | Certificate: -71.43\n",
      "Iter 13 | Certificate: -71.39\n",
      "Iter 14 | Certificate: -71.61\n",
      "Iter 15 | Certificate: -71.44\n",
      "Iter 16 | Certificate: -71.08\n",
      "Iter 17 | Certificate: -70.75\n",
      "Iter 18 | Certificate: -70.40\n",
      "Iter 19 | Certificate: -70.33\n",
      "Iter 20 | Certificate: -70.25\n",
      "Iter 21 | Certificate: -70.09\n",
      "Iter 22 | Certificate: -69.96\n",
      "Iter 23 | Certificate: -69.89\n",
      "Iter 24 | Certificate: -69.78\n"
     ]
    }
   ],
   "source": [
    "zono_decomp.choice = 'partition' \n",
    "zono_decomp.partition_kwargs = {'partition_style': 'fixed', \n",
    "                                'num_partitions': 16}\n",
    "optim_obj = optim.Adam(zono_decomp.parameters(), lr=1e-2)\n",
    "\n",
    "zono_out = zono_decomp.dual_ascent(25, verbose=1, optim_obj=optim_obj)"
   ]
  },
  {
   "cell_type": "code",
   "execution_count": 17,
   "metadata": {},
   "outputs": [
    {
     "name": "stdout",
     "output_type": "stream",
     "text": [
      "Changed value of parameter TimeLimit to 10.0\n",
      "   Prev: inf  Min: 0.0  Max: inf  Default: inf\n",
      "Changed value of parameter TimeLimit to 10.0\n",
      "   Prev: inf  Min: 0.0  Max: inf  Default: inf\n",
      "Changed value of parameter TimeLimit to 10.0\n",
      "   Prev: inf  Min: 0.0  Max: inf  Default: inf\n"
     ]
    },
    {
     "data": {
      "text/plain": [
       "{'P1': (-0.05238720476019054, 1.1855643692595321),\n",
       " 'P3': (-16.329288752416232, -3.9014411342751885),\n",
       " 'P5': (-47.098353389437726, -24.254115707336513),\n",
       " 'total_lb': -63.480029346614145,\n",
       " 'total_ub': -26.96999247235217}"
      ]
     },
     "execution_count": 17,
     "metadata": {},
     "output_type": "execute_result"
    }
   ],
   "source": [
    "zono_decomp.lagrange_bounds({'TimeLimit': 10})"
   ]
  },
  {
   "cell_type": "markdown",
   "metadata": {},
   "source": [
    "# 5. Interacting with Zonotopes/Partitioning\n",
    "Finally, we can consider the various ways we can partition/merge zonotope partitions.\n",
    "First I'll go over how to modify the partitioning of the dual objects, then how to do this for zonotopes in general"
   ]
  },
  {
   "cell_type": "code",
   "execution_count": 18,
   "metadata": {},
   "outputs": [
    {
     "name": "stdout",
     "output_type": "stream",
     "text": [
      "partition\n",
      "dict_keys(['num_partitions', 'partition_style', 'partitions'])\n"
     ]
    }
   ],
   "source": [
    "# Consider an existing dual object with some partitions \n",
    "print(zono_dual.choice)\n",
    "print(zono_dual.partition_kwargs.keys())"
   ]
  },
  {
   "cell_type": "code",
   "execution_count": 19,
   "metadata": {},
   "outputs": [
    {
     "data": {
      "text/plain": [
       "dict_keys([1, 3, 5])"
      ]
     },
     "execution_count": 19,
     "metadata": {},
     "output_type": "execute_result"
    }
   ],
   "source": [
    "# Examining the actual partitions: \n",
    "# It's a dict with keys pointing to each layer's zonotope\n",
    "zono_dual.partition_kwargs['partitions'].keys()"
   ]
  },
  {
   "cell_type": "code",
   "execution_count": 20,
   "metadata": {},
   "outputs": [
    {
     "name": "stdout",
     "output_type": "stream",
     "text": [
      "<class 'list'>\n"
     ]
    },
    {
     "data": {
      "text/plain": [
       "([1,\n",
       "  19,\n",
       "  39,\n",
       "  51,\n",
       "  56,\n",
       "  62,\n",
       "  85,\n",
       "  87,\n",
       "  88,\n",
       "  104,\n",
       "  112,\n",
       "  114,\n",
       "  118,\n",
       "  137,\n",
       "  138,\n",
       "  156,\n",
       "  159,\n",
       "  165,\n",
       "  170,\n",
       "  174,\n",
       "  183,\n",
       "  184,\n",
       "  187,\n",
       "  188,\n",
       "  190,\n",
       "  196,\n",
       "  201,\n",
       "  206,\n",
       "  211,\n",
       "  231,\n",
       "  248,\n",
       "  254],\n",
       " <abstract_domains.Zonotope at 0x7f96e8958780>)"
      ]
     },
     "execution_count": 20,
     "metadata": {},
     "output_type": "execute_result"
    }
   ],
   "source": [
    "# And each layer is a list of \n",
    "print(type(zono_dual.partition_kwargs['partitions'][1]))\n",
    "\n",
    "# Where each element is a tuple like (idxs_of_original, zonotope)\n",
    "zono_dual.partition_kwargs['partitions'][1][0]"
   ]
  },
  {
   "cell_type": "code",
   "execution_count": 21,
   "metadata": {},
   "outputs": [],
   "source": [
    "# The only things you'd probably want to do with a dual object is to \n",
    "# 1. reset the partitions \n",
    "# 2. merge existing partitions together \n",
    "zono_dual.partition_kwargs['partitions'] = None  # resents the partitions \n",
    "\n",
    "\n",
    "zono_dual.argmin() # Will remake the partitions \n",
    "zono_dual.shrink_partitions(4) # now 4 partitions per zonotope"
   ]
  },
  {
   "cell_type": "code",
   "execution_count": 22,
   "metadata": {},
   "outputs": [
    {
     "data": {
      "text/plain": [
       "<abstract_domains.Zonotope at 0x7f96e8953d30>"
      ]
     },
     "execution_count": 22,
     "metadata": {},
     "output_type": "execute_result"
    }
   ],
   "source": [
    "##### And to examine the individual zonotopes #####\n",
    "zono_ex = zono_dual.preact_bounds.bounds[1]\n",
    "zono_ex"
   ]
  },
  {
   "cell_type": "code",
   "execution_count": 23,
   "metadata": {},
   "outputs": [
    {
     "name": "stdout",
     "output_type": "stream",
     "text": [
      "torch.Size([256]) torch.Size([256, 784])\n",
      "tensor([ -4.0201,  -1.4783,  -1.9837,  -3.4214,  -5.2391,  -0.4408,  -5.8371,\n",
      "         -5.9935,  -4.1471,  -5.4295,  -2.6514,  -5.7663,  -7.1188,  -4.9403,\n",
      "          1.5643,  -2.4075,   0.5999,  -3.2104,  -3.7678,  -5.1422,  -4.1153,\n",
      "         -5.5919,  -6.8462,  -0.2810,  -0.7184,  -5.7582,  -4.1536,  -2.3583,\n",
      "         -4.0887,  -3.4226,  -6.9798,  -0.8708,  -5.0678,  -1.0506,  -5.9683,\n",
      "         -5.7655,  -3.1604,  -5.1112,  -4.7740,  -2.6093,  -8.5837,  -7.0995,\n",
      "         -5.7920,  -5.2219,  -4.7178,  -1.7338,  -6.2872,  -4.8799,  -0.2524,\n",
      "         -1.4707,  -3.4506,  -3.1170,  -4.6625,  -7.1756,  -5.1780,  -4.4660,\n",
      "         -7.4255,  -3.1039,  -4.7040,  -2.4035,  -7.5073,  -6.5595,  -4.8489,\n",
      "         -5.0170,  -7.3768,  -5.7802,  -5.7434,  -9.0429,  -4.9368,   0.3265,\n",
      "         -2.2572,  -2.5454,  -0.6178,  -1.2705,  -5.3893,  -4.0515,   0.4418,\n",
      "         -5.6087,  -5.2046,  -6.3975,  -3.6302,   1.5571,  -7.9715,  -3.5816,\n",
      "         -3.8302,  -4.5987,  -5.1568,  -6.6082,  -3.0185,  -4.2001,  -1.3968,\n",
      "         -2.2922,  -4.8295,  -1.0115,  -3.2279,  -5.4305,  -6.6066,  -2.3458,\n",
      "         -1.2477,  -2.0894,  -2.3635,  -2.7716,  -5.0688,  -6.3973,  -9.2785,\n",
      "         -7.1108,  -2.5748,  -4.9920,  -1.9929,  -6.1723,  -2.2872,  -4.6433,\n",
      "         -2.5411,  -6.4244,  -5.3331,  -4.4258,  -6.7341,  -2.8253,  -4.7505,\n",
      "         -2.4832,  -9.3746,  -6.0225,  -5.5171,  -6.9967,   1.9285,  -4.8259,\n",
      "         -6.9968,  -2.0586,  -2.1393,  -2.5284,  -1.3687,  -3.8177,  -7.4267,\n",
      "         -4.7747,  -7.8936,   0.9591,  -5.5307,   0.0379,  -2.0640,  -5.6039,\n",
      "         -7.4354,  -8.5620,  -2.5039,  -4.5942,   0.6651,  -3.6394,  -5.4390,\n",
      "         -6.4144,  -6.5166,  -4.4815,  -3.5507,  -1.1136,  -5.0259,   3.3409,\n",
      "         -2.0403,  -8.1322,  -6.8719,  -5.4850,   0.4448,  -6.2276,  -1.3834,\n",
      "         -6.1761,  -2.9797,  -4.9078,  -2.5787,  -4.0763,  -4.1253,   0.2041,\n",
      "         -6.6992,  -2.2722,  -4.8677,  -2.1234,  -1.9932,  -6.8891,  -6.0519,\n",
      "         -3.8029,   0.7610,  -3.7941,  -3.1451,  -6.5670,  -0.1956,  -4.7507,\n",
      "         -4.7082,  -6.7729,  -2.6997,  -3.5463,  -2.8740,  -2.1101,  -3.8476,\n",
      "         -2.2334,  -7.0943,  -4.0315,  -7.0767,  -1.7321,  -3.9132,  -4.6800,\n",
      "         -2.1516,  -5.5180,  -7.2863,  -5.6181,  -0.3705,  -3.8673,  -4.9753,\n",
      "         -5.2839,  -1.5695,  -9.9577,  -3.8743,  -0.3647,  -3.0121,  -6.9132,\n",
      "         -5.1897,  -4.4391, -10.2642,  -3.2862,  -3.0847,  -4.6512,  -6.8782,\n",
      "         -3.9311,  -5.7148,  -7.4587,  -6.6207,  -4.4925,  -5.2219,  -1.4881,\n",
      "         -7.0239,  -1.1925,  -2.3279,  -3.1065,  -2.4191,  -1.1556,  -1.8505,\n",
      "         -8.8557,  -6.0905,  -5.5005,  -2.8491,  -7.0781,  -6.5540,  -2.1289,\n",
      "         -6.5433,  -5.2224,  -4.9439,  -1.0410,  -9.5329,  -2.4210,  -6.5057,\n",
      "         -5.1251,   0.2350,  -7.7963,  -2.7316,  -5.6482,  -2.6338,  -6.2142,\n",
      "         -5.9176,  -6.7195,  -1.8209,  -8.3119], grad_fn=<SubBackward0>) tensor([ 9.9730e-01,  3.4734e+00,  2.6091e+00,  4.2914e+00,  1.6009e+00,\n",
      "         4.1245e+00,  1.1859e+00,  7.9612e-02,  1.3702e-01, -5.4911e-01,\n",
      "         2.4632e+00,  4.0483e+00, -6.1683e-01,  2.1454e+00,  6.9002e+00,\n",
      "         5.4020e-01,  5.1594e+00,  2.1730e+00,  1.7838e+00,  1.9927e+00,\n",
      "         2.7335e+00, -1.0338e+00,  4.7498e-01,  5.0839e+00,  4.7615e+00,\n",
      "        -2.3816e-03,  3.3250e+00,  3.3221e+00,  4.2592e+00,  2.4637e+00,\n",
      "         1.9421e+00,  3.9132e+00, -4.7659e-01,  3.2099e+00,  1.7100e+00,\n",
      "        -7.0964e-01,  2.4941e+00, -6.6622e-01,  5.2873e-02,  2.1198e+00,\n",
      "        -6.2060e-01, -2.2001e+00,  2.5881e-01, -9.7464e-01, -8.4778e-02,\n",
      "         3.4825e+00,  2.8123e+00,  2.5590e+00,  5.6171e+00,  3.7116e+00,\n",
      "         2.2430e+00,  1.3728e+00,  3.4893e-02,  3.9279e-01,  2.4157e+00,\n",
      "         1.2220e+00, -1.6028e+00,  1.5193e+00,  2.5108e+00,  2.3791e+00,\n",
      "         5.6716e-01, -1.1507e+00,  1.9689e+00, -6.3323e-02,  1.0615e+00,\n",
      "         1.5672e+00,  2.8786e+00, -1.4036e-01, -7.6582e-02,  5.0120e+00,\n",
      "         5.8582e-01,  3.1961e+00,  4.3451e+00,  4.4464e+00,  2.6706e+00,\n",
      "         9.7177e-01,  4.6278e+00,  4.7941e-02,  8.4362e-01,  1.2244e+00,\n",
      "         2.2656e+00,  6.3027e+00,  3.6341e-01,  2.5912e+00,  1.6727e+00,\n",
      "         1.9806e-01,  2.7917e+00,  1.6759e+00,  1.4169e+00,  3.4740e+00,\n",
      "         3.6907e+00,  6.6510e-01, -2.4645e-02,  3.8981e+00,  1.3629e+00,\n",
      "         3.3626e+00, -1.2482e+00,  1.8395e+00,  3.5230e+00,  3.2005e+00,\n",
      "         2.7483e+00,  2.8462e+00, -7.7371e-01, -1.1022e-01, -6.2795e-01,\n",
      "        -1.4299e+00,  2.7181e+00,  1.6616e+00,  3.4114e+00,  2.2422e+00,\n",
      "         3.7311e+00,  2.8416e+00,  3.1567e-01, -1.7009e+00, -4.5725e-01,\n",
      "        -1.3025e-01,  3.4470e-02,  2.9678e+00,  4.0274e+00,  2.8080e+00,\n",
      "         1.5293e+00,  7.9949e-01,  3.3574e-01,  5.4727e-01,  7.0387e+00,\n",
      "         1.7707e+00,  3.3053e+00,  7.9388e-01,  8.2301e-01,  3.2362e+00,\n",
      "         3.1602e+00,  1.1937e+00,  9.0878e-01,  2.4808e+00,  4.5196e-01,\n",
      "         6.1113e+00, -1.0495e+00,  5.0866e+00,  2.7764e+00,  1.0316e+00,\n",
      "         2.2969e+00,  1.3083e+00,  1.9086e+00,  1.1787e+00,  5.2683e+00,\n",
      "         1.8327e+00,  1.7000e+00, -3.5231e-01, -5.1042e-01,  6.0676e-01,\n",
      "         1.4473e+00,  3.3457e+00, -1.7811e-01,  7.6432e+00,  3.6753e+00,\n",
      "         9.0252e-01,  2.7401e-01,  8.3139e-01,  5.1259e+00,  3.1083e+00,\n",
      "         3.6259e+00,  1.1240e+00,  2.2372e+00,  4.0317e+00,  3.0464e+00,\n",
      "         3.1445e+00,  1.9880e+00,  4.5844e+00,  4.8119e-01,  2.8910e+00,\n",
      "         1.6018e+00,  3.0033e+00,  8.9896e-01,  2.6175e+00,  1.1576e+00,\n",
      "         5.6056e+00,  5.5281e+00,  1.2416e+00,  2.8252e+00, -1.4022e+00,\n",
      "         5.2861e+00,  1.4994e+00,  2.6009e+00, -2.0369e+00,  1.8511e+00,\n",
      "         1.8645e+00,  1.9728e+00,  2.9974e+00,  1.7585e+00,  2.6031e+00,\n",
      "        -5.3564e-01,  5.9300e-01,  9.1351e-01,  2.7904e+00,  1.5953e-01,\n",
      "         2.0132e+00,  7.1557e-01,  8.9028e-02,  1.7134e+00, -4.0059e-01,\n",
      "         5.0519e+00,  1.7452e+00, -2.6721e-01,  5.4139e-01,  3.3630e+00,\n",
      "        -1.6045e+00,  5.0459e-01,  3.8676e+00,  1.9894e+00,  4.0378e+00,\n",
      "         1.8592e+00,  8.3890e-01,  1.5394e-01,  1.8344e+00,  2.9394e+00,\n",
      "         2.6930e+00,  1.4562e+00,  8.4780e-01,  2.0687e+00,  1.1424e+00,\n",
      "         1.1655e+00,  4.1860e+00,  2.3223e+00,  3.6429e+00,  3.3765e+00,\n",
      "         4.7760e+00,  6.0868e-01,  1.7541e+00,  2.1897e+00,  3.9467e+00,\n",
      "         9.9861e-01,  1.4589e+00,  2.9084e-01,  3.1637e+00,  2.1193e+00,\n",
      "         1.9526e+00,  2.0954e+00,  7.3198e-01,  1.6693e+00,  2.2323e+00,\n",
      "         2.8138e+00,  3.6834e+00,  3.0639e-01,  3.4037e+00,  1.2403e+00,\n",
      "        -6.5234e-01,  4.6652e+00,  2.0959e-01,  1.8221e+00,  2.6244e+00,\n",
      "         2.7541e+00, -3.0254e-01,  1.0270e-02,  1.4265e+00,  3.3074e+00,\n",
      "         1.0296e+00], grad_fn=<AddBackward0>)\n"
     ]
    }
   ],
   "source": [
    "# You can get the center, generator, element-wise lower and upper bounds like \n",
    "print(zono_ex.center.shape, zono_ex.generator.shape)\n",
    "print(zono_ex.lbs, zono_ex.ubs)"
   ]
  },
  {
   "cell_type": "code",
   "execution_count": 24,
   "metadata": {},
   "outputs": [
    {
     "data": {
      "text/plain": [
       "(tensor(-485.0855, grad_fn=<DotBackward>),\n",
       " tensor([-1.7733,  0.8088,  0.1956, -1.8161, -3.4528,  1.5994, -3.8733, -3.6302,\n",
       "         -2.4468, -3.7438,  0.3520, -3.5095, -4.4656, -2.4714,  4.1153, -1.3404,\n",
       "          3.1901, -0.5386, -1.0052, -3.8602, -2.2105, -3.4108, -4.5283,  2.3665,\n",
       "          1.8820, -2.9261, -2.1691,  0.5874, -1.6264, -0.4566, -4.4463,  1.4133,\n",
       "         -2.9252,  1.3198, -4.0773, -4.3123, -0.6865, -2.8027, -2.8688, -0.3986,\n",
       "         -5.5912, -4.9252, -2.3303, -3.0548, -2.6407,  0.5823, -3.7131, -3.2493,\n",
       "          2.6870,  0.7620, -0.7740, -0.9270, -2.2163, -5.1500, -2.7819, -1.8592,\n",
       "         -4.8217, -0.3862, -3.1467,  0.4431, -5.7661, -3.9550, -3.2796, -3.1084,\n",
       "         -5.5714, -3.8127, -3.6871, -6.4311, -2.3189,  2.6746, -1.0913,  0.2318,\n",
       "          1.7433,  1.2243, -3.2686, -2.1211,  3.2559, -3.0997, -3.6713, -4.6153,\n",
       "         -1.2332,  3.8910, -5.3573, -0.8602, -1.3464, -2.3133, -3.0320, -3.9914,\n",
       "         -0.7533, -1.4813,  0.7830, -1.2929, -2.5817,  1.4208, -0.6501, -3.1577,\n",
       "         -3.8879, -0.1242,  0.9504,  0.2111,  0.6760, -0.4015, -3.2412, -3.7217,\n",
       "         -7.0729, -5.0661, -0.1267, -3.1797,  0.5831, -4.4187,  0.8328, -3.0610,\n",
       "         -1.4383, -3.6346, -2.9784, -2.5208, -4.6250, -0.0196, -2.5887, -0.0132,\n",
       "         -6.4154, -3.5688, -2.9837, -5.1579,  4.2434, -3.3938, -3.7027, -1.0719,\n",
       "         -0.8536, -0.0936,  0.4307, -0.9817, -5.3612, -2.1840, -4.9766,  3.0821,\n",
       "         -3.2270,  2.5493,  0.2410, -3.3308, -4.8209, -5.7068, -0.3644, -1.2195,\n",
       "          3.0206, -1.2813, -3.4242, -3.8196, -3.7401, -1.9959, -1.0754,  1.0719,\n",
       "         -2.8142,  5.3715,  0.5176, -5.8563, -4.9764, -2.6657,  2.9113, -3.6470,\n",
       "          0.9274, -3.9358, -0.1990, -2.0551,  0.0629, -2.4251, -2.6654,  2.7391,\n",
       "         -4.5921, -0.0463, -2.3083,  0.4536, -0.7105, -4.8037, -2.7534, -0.8090,\n",
       "          3.7637, -2.4671, -0.6399, -4.4103,  2.7272, -1.4674, -2.6926, -4.6912,\n",
       "         -0.2731, -1.1873, -0.6486,  0.9781, -1.8611,  0.2995, -4.9136, -1.3476,\n",
       "         -5.3936,  0.2271, -2.0752, -2.7494, -0.8953, -3.0553, -4.8130, -3.1225,\n",
       "          2.6716, -0.9556, -3.0881, -2.5509,  1.4309, -7.3051, -1.2367,  2.0529,\n",
       "         -0.4419, -4.0947, -2.9063, -2.3013, -8.0716, -0.6827, -1.1018, -2.2472,\n",
       "         -4.3815, -1.7369, -4.0174, -5.1361, -4.2311, -1.9110, -3.1783,  0.5547,\n",
       "         -4.3364,  0.8766, -1.1513, -1.1274, -0.6150,  1.3198, -0.5515, -7.0375,\n",
       "         -3.0234, -2.8238,  0.1365, -3.8561, -4.5592, -1.0347, -4.1851, -3.5920,\n",
       "         -2.3126,  1.0670, -7.2092,  0.5638, -4.2656, -2.7107,  2.8777, -5.3477,\n",
       "         -0.4904, -3.7394, -0.3637, -4.9375, -3.5040, -4.0366,  1.0180, -5.6411],\n",
       "        grad_fn=<AddBackward0>))"
      ]
     },
     "execution_count": 24,
     "metadata": {},
     "output_type": "execute_result"
    }
   ],
   "source": [
    "# To solve a vanilla linear program over the zonotope:\n",
    "zono_ex.solve_lp(torch.ones_like(zono_ex.lbs), get_argmin=True)"
   ]
  },
  {
   "cell_type": "code",
   "execution_count": 25,
   "metadata": {},
   "outputs": [
    {
     "data": {
      "text/plain": [
       "(-585.984829138688,\n",
       " <gurobi.Model MIP instance Unnamed: 871 constrs, 1451 vars, Parameter changes: TimeLimit=10.0, OutputFlag=0>)"
      ]
     },
     "execution_count": 25,
     "metadata": {},
     "output_type": "execute_result"
    }
   ],
   "source": [
    "# To solve a relu program: min_z c1@z + c2@relu(z)... \n",
    "c1 = torch.ones_like(zono_ex.lbs)\n",
    "c2 = -torch.ones_like(zono_ex.lbs)\n",
    "zono_ex.solve_relu_mip(c1, c2, apx_params={'TimeLimit': 10}, verbose=True)"
   ]
  },
  {
   "cell_type": "code",
   "execution_count": 26,
   "metadata": {},
   "outputs": [
    {
     "data": {
      "text/plain": [
       "[([6,\n",
       "   13,\n",
       "   14,\n",
       "   21,\n",
       "   31,\n",
       "   33,\n",
       "   41,\n",
       "   45,\n",
       "   50,\n",
       "   56,\n",
       "   59,\n",
       "   75,\n",
       "   108,\n",
       "   110,\n",
       "   121,\n",
       "   123,\n",
       "   137,\n",
       "   148,\n",
       "   153,\n",
       "   161,\n",
       "   188,\n",
       "   203,\n",
       "   205,\n",
       "   214,\n",
       "   233,\n",
       "   253],\n",
       "  <abstract_domains.Zonotope at 0x7f96787f7da0>),\n",
       " ([8,\n",
       "   18,\n",
       "   28,\n",
       "   39,\n",
       "   47,\n",
       "   51,\n",
       "   66,\n",
       "   98,\n",
       "   109,\n",
       "   119,\n",
       "   128,\n",
       "   133,\n",
       "   141,\n",
       "   143,\n",
       "   162,\n",
       "   166,\n",
       "   170,\n",
       "   177,\n",
       "   179,\n",
       "   189,\n",
       "   220,\n",
       "   221,\n",
       "   245,\n",
       "   249,\n",
       "   251,\n",
       "   252],\n",
       "  <abstract_domains.Zonotope at 0x7f96787f7358>),\n",
       " ([10,\n",
       "   17,\n",
       "   32,\n",
       "   38,\n",
       "   52,\n",
       "   70,\n",
       "   73,\n",
       "   80,\n",
       "   91,\n",
       "   111,\n",
       "   112,\n",
       "   113,\n",
       "   129,\n",
       "   139,\n",
       "   150,\n",
       "   158,\n",
       "   160,\n",
       "   167,\n",
       "   175,\n",
       "   194,\n",
       "   196,\n",
       "   201,\n",
       "   204,\n",
       "   206,\n",
       "   222,\n",
       "   225],\n",
       "  <abstract_domains.Zonotope at 0x7f96787f7780>),\n",
       " ([3,\n",
       "   5,\n",
       "   9,\n",
       "   23,\n",
       "   46,\n",
       "   71,\n",
       "   78,\n",
       "   86,\n",
       "   87,\n",
       "   97,\n",
       "   114,\n",
       "   120,\n",
       "   157,\n",
       "   163,\n",
       "   168,\n",
       "   171,\n",
       "   185,\n",
       "   191,\n",
       "   200,\n",
       "   209,\n",
       "   216,\n",
       "   237,\n",
       "   243,\n",
       "   250,\n",
       "   254,\n",
       "   255],\n",
       "  <abstract_domains.Zonotope at 0x7f96787f7390>),\n",
       " ([1,\n",
       "   2,\n",
       "   4,\n",
       "   15,\n",
       "   20,\n",
       "   40,\n",
       "   42,\n",
       "   55,\n",
       "   60,\n",
       "   61,\n",
       "   76,\n",
       "   81,\n",
       "   82,\n",
       "   90,\n",
       "   99,\n",
       "   115,\n",
       "   118,\n",
       "   164,\n",
       "   182,\n",
       "   192,\n",
       "   228,\n",
       "   240,\n",
       "   241,\n",
       "   246,\n",
       "   247,\n",
       "   248],\n",
       "  <abstract_domains.Zonotope at 0x7f96787f7400>),\n",
       " ([25,\n",
       "   43,\n",
       "   49,\n",
       "   54,\n",
       "   62,\n",
       "   63,\n",
       "   64,\n",
       "   72,\n",
       "   84,\n",
       "   102,\n",
       "   105,\n",
       "   107,\n",
       "   127,\n",
       "   135,\n",
       "   149,\n",
       "   165,\n",
       "   169,\n",
       "   180,\n",
       "   184,\n",
       "   186,\n",
       "   197,\n",
       "   199,\n",
       "   207,\n",
       "   213,\n",
       "   232,\n",
       "   244],\n",
       "  <abstract_domains.Zonotope at 0x7f96787f73c8>),\n",
       " ([0,\n",
       "   19,\n",
       "   27,\n",
       "   34,\n",
       "   44,\n",
       "   53,\n",
       "   58,\n",
       "   67,\n",
       "   85,\n",
       "   89,\n",
       "   92,\n",
       "   96,\n",
       "   101,\n",
       "   124,\n",
       "   126,\n",
       "   131,\n",
       "   136,\n",
       "   145,\n",
       "   155,\n",
       "   159,\n",
       "   183,\n",
       "   217,\n",
       "   223,\n",
       "   227,\n",
       "   231],\n",
       "  <abstract_domains.Zonotope at 0x7f96787f72b0>),\n",
       " ([12,\n",
       "   36,\n",
       "   37,\n",
       "   65,\n",
       "   79,\n",
       "   94,\n",
       "   106,\n",
       "   116,\n",
       "   122,\n",
       "   125,\n",
       "   130,\n",
       "   132,\n",
       "   140,\n",
       "   142,\n",
       "   146,\n",
       "   152,\n",
       "   156,\n",
       "   176,\n",
       "   181,\n",
       "   190,\n",
       "   219,\n",
       "   224,\n",
       "   226,\n",
       "   234,\n",
       "   242],\n",
       "  <abstract_domains.Zonotope at 0x7f96787f7320>),\n",
       " ([11,\n",
       "   16,\n",
       "   22,\n",
       "   24,\n",
       "   35,\n",
       "   48,\n",
       "   57,\n",
       "   74,\n",
       "   88,\n",
       "   93,\n",
       "   117,\n",
       "   134,\n",
       "   151,\n",
       "   172,\n",
       "   174,\n",
       "   195,\n",
       "   198,\n",
       "   202,\n",
       "   208,\n",
       "   211,\n",
       "   212,\n",
       "   215,\n",
       "   229,\n",
       "   236,\n",
       "   239],\n",
       "  <abstract_domains.Zonotope at 0x7f96787f7278>),\n",
       " ([7,\n",
       "   26,\n",
       "   29,\n",
       "   30,\n",
       "   68,\n",
       "   69,\n",
       "   77,\n",
       "   83,\n",
       "   95,\n",
       "   100,\n",
       "   103,\n",
       "   104,\n",
       "   138,\n",
       "   144,\n",
       "   147,\n",
       "   154,\n",
       "   173,\n",
       "   178,\n",
       "   187,\n",
       "   193,\n",
       "   210,\n",
       "   218,\n",
       "   230,\n",
       "   235,\n",
       "   238],\n",
       "  <abstract_domains.Zonotope at 0x7f96787f7f60>)]"
      ]
     },
     "execution_count": 26,
     "metadata": {},
     "output_type": "execute_result"
    }
   ],
   "source": [
    "# To create partitions:\n",
    "parts = zono_ex.make_random_partitions(10)\n",
    "parts"
   ]
  },
  {
   "cell_type": "code",
   "execution_count": 27,
   "metadata": {},
   "outputs": [
    {
     "data": {
      "text/plain": [
       "[([6,\n",
       "   13,\n",
       "   14,\n",
       "   21,\n",
       "   31,\n",
       "   33,\n",
       "   41,\n",
       "   45,\n",
       "   50,\n",
       "   56,\n",
       "   59,\n",
       "   75,\n",
       "   108,\n",
       "   110,\n",
       "   121,\n",
       "   123,\n",
       "   137,\n",
       "   148,\n",
       "   153,\n",
       "   161,\n",
       "   188,\n",
       "   203,\n",
       "   205,\n",
       "   214,\n",
       "   233,\n",
       "   253,\n",
       "   10,\n",
       "   17,\n",
       "   32,\n",
       "   38,\n",
       "   52,\n",
       "   70,\n",
       "   73,\n",
       "   80,\n",
       "   91,\n",
       "   111,\n",
       "   112,\n",
       "   113,\n",
       "   129,\n",
       "   139,\n",
       "   150,\n",
       "   158,\n",
       "   160,\n",
       "   167,\n",
       "   175,\n",
       "   194,\n",
       "   196,\n",
       "   201,\n",
       "   204,\n",
       "   206,\n",
       "   222,\n",
       "   225,\n",
       "   1,\n",
       "   2,\n",
       "   4,\n",
       "   15,\n",
       "   20,\n",
       "   40,\n",
       "   42,\n",
       "   55,\n",
       "   60,\n",
       "   61,\n",
       "   76,\n",
       "   81,\n",
       "   82,\n",
       "   90,\n",
       "   99,\n",
       "   115,\n",
       "   118,\n",
       "   164,\n",
       "   182,\n",
       "   192,\n",
       "   228,\n",
       "   240,\n",
       "   241,\n",
       "   246,\n",
       "   247,\n",
       "   248,\n",
       "   0,\n",
       "   19,\n",
       "   27,\n",
       "   34,\n",
       "   44,\n",
       "   53,\n",
       "   58,\n",
       "   67,\n",
       "   85,\n",
       "   89,\n",
       "   92,\n",
       "   96,\n",
       "   101,\n",
       "   124,\n",
       "   126,\n",
       "   131,\n",
       "   136,\n",
       "   145,\n",
       "   155,\n",
       "   159,\n",
       "   183,\n",
       "   217,\n",
       "   223,\n",
       "   227,\n",
       "   231,\n",
       "   11,\n",
       "   16,\n",
       "   22,\n",
       "   24,\n",
       "   35,\n",
       "   48,\n",
       "   57,\n",
       "   74,\n",
       "   88,\n",
       "   93,\n",
       "   117,\n",
       "   134,\n",
       "   151,\n",
       "   172,\n",
       "   174,\n",
       "   195,\n",
       "   198,\n",
       "   202,\n",
       "   208,\n",
       "   211,\n",
       "   212,\n",
       "   215,\n",
       "   229,\n",
       "   236,\n",
       "   239],\n",
       "  <abstract_domains.Zonotope at 0x7f96789b3f98>)]"
      ]
     },
     "execution_count": 27,
     "metadata": {},
     "output_type": "execute_result"
    }
   ],
   "source": [
    "# and to merge partitions back together \n",
    "half_parts_a = ad.Zonotope.merge_partitions(parts[::2])\n",
    "half_parts_b = ad.Zonotope.merge_partitions(parts[1::2])\n",
    "half_parts_a"
   ]
  },
  {
   "cell_type": "code",
   "execution_count": 28,
   "metadata": {},
   "outputs": [],
   "source": [
    "#... and that's all, I think"
   ]
  },
  {
   "cell_type": "code",
   "execution_count": null,
   "metadata": {},
   "outputs": [],
   "source": []
  }
 ],
 "metadata": {
  "kernelspec": {
   "display_name": "py3",
   "language": "python",
   "name": "py3"
  },
  "language_info": {
   "codemirror_mode": {
    "name": "ipython",
    "version": 3
   },
   "file_extension": ".py",
   "mimetype": "text/x-python",
   "name": "python",
   "nbconvert_exporter": "python",
   "pygments_lexer": "ipython3",
   "version": "3.6.9"
  }
 },
 "nbformat": 4,
 "nbformat_minor": 4
}
